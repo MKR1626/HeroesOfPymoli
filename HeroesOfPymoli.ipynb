{
 "cells": [
  {
   "cell_type": "code",
   "execution_count": 942,
   "id": "c844e5a9",
   "metadata": {},
   "outputs": [],
   "source": [
    "import pandas as pd"
   ]
  },
  {
   "cell_type": "code",
   "execution_count": 943,
   "id": "f07eca2e",
   "metadata": {},
   "outputs": [],
   "source": [
    "import numpy as np"
   ]
  },
  {
   "cell_type": "code",
   "execution_count": 944,
   "id": "4aac72f7",
   "metadata": {},
   "outputs": [],
   "source": [
    "file_to_load = \"C:\\\\Users\\\\maryk\\\\OneDrive\\\\Desktop\\\\Homework\\\\pandas-challenge\\\\purchase_data.csv\""
   ]
  },
  {
   "cell_type": "code",
   "execution_count": 945,
   "id": "e9426a1a",
   "metadata": {},
   "outputs": [
    {
     "data": {
      "text/html": [
       "<div>\n",
       "<style scoped>\n",
       "    .dataframe tbody tr th:only-of-type {\n",
       "        vertical-align: middle;\n",
       "    }\n",
       "\n",
       "    .dataframe tbody tr th {\n",
       "        vertical-align: top;\n",
       "    }\n",
       "\n",
       "    .dataframe thead th {\n",
       "        text-align: right;\n",
       "    }\n",
       "</style>\n",
       "<table border=\"1\" class=\"dataframe\">\n",
       "  <thead>\n",
       "    <tr style=\"text-align: right;\">\n",
       "      <th></th>\n",
       "      <th>Purchase ID</th>\n",
       "      <th>SN</th>\n",
       "      <th>Age</th>\n",
       "      <th>Gender</th>\n",
       "      <th>Item ID</th>\n",
       "      <th>Item Name</th>\n",
       "      <th>Price</th>\n",
       "    </tr>\n",
       "  </thead>\n",
       "  <tbody>\n",
       "    <tr>\n",
       "      <th>0</th>\n",
       "      <td>0</td>\n",
       "      <td>Lisim78</td>\n",
       "      <td>20</td>\n",
       "      <td>Male</td>\n",
       "      <td>108</td>\n",
       "      <td>Extraction, Quickblade Of Trembling Hands</td>\n",
       "      <td>3.53</td>\n",
       "    </tr>\n",
       "    <tr>\n",
       "      <th>1</th>\n",
       "      <td>1</td>\n",
       "      <td>Lisovynya38</td>\n",
       "      <td>40</td>\n",
       "      <td>Male</td>\n",
       "      <td>143</td>\n",
       "      <td>Frenzied Scimitar</td>\n",
       "      <td>1.56</td>\n",
       "    </tr>\n",
       "    <tr>\n",
       "      <th>2</th>\n",
       "      <td>2</td>\n",
       "      <td>Ithergue48</td>\n",
       "      <td>24</td>\n",
       "      <td>Male</td>\n",
       "      <td>92</td>\n",
       "      <td>Final Critic</td>\n",
       "      <td>4.88</td>\n",
       "    </tr>\n",
       "    <tr>\n",
       "      <th>3</th>\n",
       "      <td>3</td>\n",
       "      <td>Chamassasya86</td>\n",
       "      <td>24</td>\n",
       "      <td>Male</td>\n",
       "      <td>100</td>\n",
       "      <td>Blindscythe</td>\n",
       "      <td>3.27</td>\n",
       "    </tr>\n",
       "    <tr>\n",
       "      <th>4</th>\n",
       "      <td>4</td>\n",
       "      <td>Iskosia90</td>\n",
       "      <td>23</td>\n",
       "      <td>Male</td>\n",
       "      <td>131</td>\n",
       "      <td>Fury</td>\n",
       "      <td>1.44</td>\n",
       "    </tr>\n",
       "  </tbody>\n",
       "</table>\n",
       "</div>"
      ],
      "text/plain": [
       "   Purchase ID             SN  Age Gender  Item ID  \\\n",
       "0            0        Lisim78   20   Male      108   \n",
       "1            1    Lisovynya38   40   Male      143   \n",
       "2            2     Ithergue48   24   Male       92   \n",
       "3            3  Chamassasya86   24   Male      100   \n",
       "4            4      Iskosia90   23   Male      131   \n",
       "\n",
       "                                   Item Name  Price  \n",
       "0  Extraction, Quickblade Of Trembling Hands   3.53  \n",
       "1                          Frenzied Scimitar   1.56  \n",
       "2                               Final Critic   4.88  \n",
       "3                                Blindscythe   3.27  \n",
       "4                                       Fury   1.44  "
      ]
     },
     "execution_count": 945,
     "metadata": {},
     "output_type": "execute_result"
    }
   ],
   "source": [
    "purchase_data = pd.read_csv(file_to_load)\n",
    "purchase_data.head()"
   ]
  },
  {
   "cell_type": "code",
   "execution_count": 946,
   "id": "a50fb79b",
   "metadata": {},
   "outputs": [],
   "source": [
    "players=purchase_data['SN'].unique().size"
   ]
  },
  {
   "cell_type": "code",
   "execution_count": 947,
   "id": "4331abe2",
   "metadata": {},
   "outputs": [
    {
     "name": "stdout",
     "output_type": "stream",
     "text": [
      "576\n"
     ]
    }
   ],
   "source": [
    "print(players)"
   ]
  },
  {
   "cell_type": "code",
   "execution_count": 948,
   "id": "bc183aa5",
   "metadata": {},
   "outputs": [],
   "source": [
    "players_df=pd.DataFrame([[Total_Players]])"
   ]
  },
  {
   "cell_type": "code",
   "execution_count": 949,
   "id": "ad5a8d9d",
   "metadata": {},
   "outputs": [],
   "source": [
    "players_df.columns=[['Total Players']]"
   ]
  },
  {
   "cell_type": "code",
   "execution_count": 950,
   "id": "97b6637c",
   "metadata": {},
   "outputs": [
    {
     "data": {
      "text/html": [
       "<div>\n",
       "<style scoped>\n",
       "    .dataframe tbody tr th:only-of-type {\n",
       "        vertical-align: middle;\n",
       "    }\n",
       "\n",
       "    .dataframe tbody tr th {\n",
       "        vertical-align: top;\n",
       "    }\n",
       "\n",
       "    .dataframe thead tr th {\n",
       "        text-align: left;\n",
       "    }\n",
       "</style>\n",
       "<table border=\"1\" class=\"dataframe\">\n",
       "  <thead>\n",
       "    <tr>\n",
       "      <th></th>\n",
       "      <th>Total Players</th>\n",
       "    </tr>\n",
       "  </thead>\n",
       "  <tbody>\n",
       "    <tr>\n",
       "      <th>0</th>\n",
       "      <td>576</td>\n",
       "    </tr>\n",
       "  </tbody>\n",
       "</table>\n",
       "</div>"
      ],
      "text/plain": [
       "  Total Players\n",
       "0           576"
      ]
     },
     "execution_count": 950,
     "metadata": {},
     "output_type": "execute_result"
    }
   ],
   "source": [
    "players_df.head()"
   ]
  },
  {
   "cell_type": "code",
   "execution_count": null,
   "id": "1da32423",
   "metadata": {},
   "outputs": [],
   "source": []
  },
  {
   "cell_type": "code",
   "execution_count": 951,
   "id": "eda4b036",
   "metadata": {},
   "outputs": [],
   "source": [
    "items=purchase_data['Item ID'].unique().size"
   ]
  },
  {
   "cell_type": "code",
   "execution_count": 952,
   "id": "d3a2284a",
   "metadata": {},
   "outputs": [
    {
     "name": "stdout",
     "output_type": "stream",
     "text": [
      "179\n"
     ]
    }
   ],
   "source": [
    "print(items)"
   ]
  },
  {
   "cell_type": "code",
   "execution_count": 953,
   "id": "8a736b3e",
   "metadata": {},
   "outputs": [],
   "source": [
    "average=purchase_data['Price'].mean()"
   ]
  },
  {
   "cell_type": "code",
   "execution_count": 954,
   "id": "42c9cfac",
   "metadata": {},
   "outputs": [
    {
     "name": "stdout",
     "output_type": "stream",
     "text": [
      "3.050987179487176\n"
     ]
    }
   ],
   "source": [
    "print(average)"
   ]
  },
  {
   "cell_type": "code",
   "execution_count": 955,
   "id": "0eb8eded",
   "metadata": {},
   "outputs": [],
   "source": [
    "format_float = \"{:.2f}\".format(average)"
   ]
  },
  {
   "cell_type": "code",
   "execution_count": 956,
   "id": "f9513630",
   "metadata": {},
   "outputs": [
    {
     "name": "stdout",
     "output_type": "stream",
     "text": [
      "3.05\n"
     ]
    }
   ],
   "source": [
    "print(format_float)"
   ]
  },
  {
   "cell_type": "code",
   "execution_count": 957,
   "id": "24be9037",
   "metadata": {},
   "outputs": [],
   "source": [
    "purchases=purchase_data['Purchase ID'].unique().size"
   ]
  },
  {
   "cell_type": "code",
   "execution_count": 958,
   "id": "c0e37d56",
   "metadata": {},
   "outputs": [
    {
     "name": "stdout",
     "output_type": "stream",
     "text": [
      "780\n"
     ]
    }
   ],
   "source": [
    "print(purchases)"
   ]
  },
  {
   "cell_type": "code",
   "execution_count": 959,
   "id": "4526435f",
   "metadata": {},
   "outputs": [],
   "source": [
    "revenue=purchase_data['Price'].sum()"
   ]
  },
  {
   "cell_type": "code",
   "execution_count": 960,
   "id": "57ec23a3",
   "metadata": {},
   "outputs": [
    {
     "name": "stdout",
     "output_type": "stream",
     "text": [
      "2379.77\n"
     ]
    }
   ],
   "source": [
    "print(revenue)"
   ]
  },
  {
   "cell_type": "code",
   "execution_count": 961,
   "id": "50a4c10f",
   "metadata": {},
   "outputs": [],
   "source": [
    "Table_df=pd.DataFrame([[items,format_float,purchases,revenue]])\n",
    "Table_df.columns=[['Number of Unique Items','Average Price','Number of Purchases','Total Revenue']]"
   ]
  },
  {
   "cell_type": "code",
   "execution_count": 962,
   "id": "f0888574",
   "metadata": {},
   "outputs": [
    {
     "name": "stdout",
     "output_type": "stream",
     "text": [
      "  Number of Unique Items Average Price Number of Purchases Total Revenue\n",
      "0                    179          3.05                 780       2379.77\n"
     ]
    }
   ],
   "source": [
    "print(Table_df)"
   ]
  },
  {
   "cell_type": "code",
   "execution_count": 963,
   "id": "f6784be7",
   "metadata": {},
   "outputs": [
    {
     "data": {
      "text/html": [
       "<div>\n",
       "<style scoped>\n",
       "    .dataframe tbody tr th:only-of-type {\n",
       "        vertical-align: middle;\n",
       "    }\n",
       "\n",
       "    .dataframe tbody tr th {\n",
       "        vertical-align: top;\n",
       "    }\n",
       "\n",
       "    .dataframe thead tr th {\n",
       "        text-align: left;\n",
       "    }\n",
       "</style>\n",
       "<table border=\"1\" class=\"dataframe\">\n",
       "  <thead>\n",
       "    <tr>\n",
       "      <th></th>\n",
       "      <th>Number of Unique Items</th>\n",
       "      <th>Average Price</th>\n",
       "      <th>Number of Purchases</th>\n",
       "      <th>Total Revenue</th>\n",
       "    </tr>\n",
       "  </thead>\n",
       "  <tbody>\n",
       "    <tr>\n",
       "      <th>0</th>\n",
       "      <td>179</td>\n",
       "      <td>3.05</td>\n",
       "      <td>780</td>\n",
       "      <td>2379.77</td>\n",
       "    </tr>\n",
       "  </tbody>\n",
       "</table>\n",
       "</div>"
      ],
      "text/plain": [
       "  Number of Unique Items Average Price Number of Purchases Total Revenue\n",
       "0                    179          3.05                 780       2379.77"
      ]
     },
     "execution_count": 963,
     "metadata": {},
     "output_type": "execute_result"
    }
   ],
   "source": [
    "Table_df.head()"
   ]
  },
  {
   "cell_type": "code",
   "execution_count": null,
   "id": "fef1b310",
   "metadata": {},
   "outputs": [],
   "source": []
  },
  {
   "cell_type": "code",
   "execution_count": 964,
   "id": "c213b881",
   "metadata": {},
   "outputs": [],
   "source": [
    "genders = purchase_data.groupby(\"Gender\")"
   ]
  },
  {
   "cell_type": "code",
   "execution_count": 965,
   "id": "1587d6ab",
   "metadata": {},
   "outputs": [],
   "source": [
    "gen_group = genders.nunique()['SN']"
   ]
  },
  {
   "cell_type": "code",
   "execution_count": 966,
   "id": "6b490629",
   "metadata": {},
   "outputs": [
    {
     "name": "stdout",
     "output_type": "stream",
     "text": [
      "Gender\n",
      "Female                    81\n",
      "Male                     484\n",
      "Other / Non-Disclosed     11\n",
      "Name: SN, dtype: int64\n"
     ]
    }
   ],
   "source": [
    "print(gen_group)"
   ]
  },
  {
   "cell_type": "code",
   "execution_count": 967,
   "id": "bb5f13c2",
   "metadata": {},
   "outputs": [],
   "source": [
    "player_perc = gen_group / players * 100"
   ]
  },
  {
   "cell_type": "code",
   "execution_count": 968,
   "id": "ccb1c3dd",
   "metadata": {},
   "outputs": [
    {
     "name": "stdout",
     "output_type": "stream",
     "text": [
      "Gender\n",
      "Female                   14.062500\n",
      "Male                     84.027778\n",
      "Other / Non-Disclosed     1.909722\n",
      "Name: SN, dtype: float64\n"
     ]
    }
   ],
   "source": [
    "print(player_perc)"
   ]
  },
  {
   "cell_type": "code",
   "execution_count": 969,
   "id": "65c8f428",
   "metadata": {},
   "outputs": [],
   "source": [
    "Gender_Demographics = pd.DataFrame({\"Total Count\": gen_group, \"Percentage of Players\": player_perc})"
   ]
  },
  {
   "cell_type": "code",
   "execution_count": 970,
   "id": "f0ceafe4",
   "metadata": {},
   "outputs": [
    {
     "name": "stdout",
     "output_type": "stream",
     "text": [
      "                       Total Count  Percentage of Players\n",
      "Gender                                                   \n",
      "Female                          81              14.062500\n",
      "Male                           484              84.027778\n",
      "Other / Non-Disclosed           11               1.909722\n"
     ]
    }
   ],
   "source": [
    "print(Gender_Demographics)"
   ]
  },
  {
   "cell_type": "code",
   "execution_count": 971,
   "id": "5b4d58e1",
   "metadata": {},
   "outputs": [
    {
     "data": {
      "text/html": [
       "<div>\n",
       "<style scoped>\n",
       "    .dataframe tbody tr th:only-of-type {\n",
       "        vertical-align: middle;\n",
       "    }\n",
       "\n",
       "    .dataframe tbody tr th {\n",
       "        vertical-align: top;\n",
       "    }\n",
       "\n",
       "    .dataframe thead th {\n",
       "        text-align: right;\n",
       "    }\n",
       "</style>\n",
       "<table border=\"1\" class=\"dataframe\">\n",
       "  <thead>\n",
       "    <tr style=\"text-align: right;\">\n",
       "      <th></th>\n",
       "      <th>Total Count</th>\n",
       "      <th>Percentage of Players</th>\n",
       "    </tr>\n",
       "    <tr>\n",
       "      <th>Gender</th>\n",
       "      <th></th>\n",
       "      <th></th>\n",
       "    </tr>\n",
       "  </thead>\n",
       "  <tbody>\n",
       "    <tr>\n",
       "      <th>Female</th>\n",
       "      <td>81</td>\n",
       "      <td>14.062500</td>\n",
       "    </tr>\n",
       "    <tr>\n",
       "      <th>Male</th>\n",
       "      <td>484</td>\n",
       "      <td>84.027778</td>\n",
       "    </tr>\n",
       "    <tr>\n",
       "      <th>Other / Non-Disclosed</th>\n",
       "      <td>11</td>\n",
       "      <td>1.909722</td>\n",
       "    </tr>\n",
       "  </tbody>\n",
       "</table>\n",
       "</div>"
      ],
      "text/plain": [
       "                       Total Count  Percentage of Players\n",
       "Gender                                                   \n",
       "Female                          81              14.062500\n",
       "Male                           484              84.027778\n",
       "Other / Non-Disclosed           11               1.909722"
      ]
     },
     "execution_count": 971,
     "metadata": {},
     "output_type": "execute_result"
    }
   ],
   "source": [
    "Gender_Demographics.head()"
   ]
  },
  {
   "cell_type": "code",
   "execution_count": null,
   "id": "7df32f1e",
   "metadata": {},
   "outputs": [],
   "source": []
  },
  {
   "cell_type": "code",
   "execution_count": 972,
   "id": "2eb279cd",
   "metadata": {},
   "outputs": [],
   "source": [
    "pur_ct = genders[\"Purchase ID\"].count()"
   ]
  },
  {
   "cell_type": "code",
   "execution_count": 973,
   "id": "a674de56",
   "metadata": {},
   "outputs": [
    {
     "name": "stdout",
     "output_type": "stream",
     "text": [
      "Gender\n",
      "Female                   113\n",
      "Male                     652\n",
      "Other / Non-Disclosed     15\n",
      "Name: Purchase ID, dtype: int64\n"
     ]
    }
   ],
   "source": [
    "print(pur_ct)"
   ]
  },
  {
   "cell_type": "code",
   "execution_count": 974,
   "id": "502d00f0",
   "metadata": {},
   "outputs": [],
   "source": [
    "av_pr =  genders[\"Price\"].mean()"
   ]
  },
  {
   "cell_type": "code",
   "execution_count": 975,
   "id": "cc553690",
   "metadata": {},
   "outputs": [
    {
     "name": "stdout",
     "output_type": "stream",
     "text": [
      "Gender\n",
      "Female                   3.203009\n",
      "Male                     3.017853\n",
      "Other / Non-Disclosed    3.346000\n",
      "Name: Price, dtype: float64\n"
     ]
    }
   ],
   "source": [
    "print(av_pr)"
   ]
  },
  {
   "cell_type": "code",
   "execution_count": 976,
   "id": "72a696bb",
   "metadata": {},
   "outputs": [],
   "source": [
    "ttl_vl = genders[\"Price\"].sum()"
   ]
  },
  {
   "cell_type": "code",
   "execution_count": 977,
   "id": "6bac0682",
   "metadata": {},
   "outputs": [
    {
     "name": "stdout",
     "output_type": "stream",
     "text": [
      "Gender\n",
      "Female                    361.94\n",
      "Male                     1967.64\n",
      "Other / Non-Disclosed      50.19\n",
      "Name: Price, dtype: float64\n"
     ]
    }
   ],
   "source": [
    "print(ttl_vl)"
   ]
  },
  {
   "cell_type": "code",
   "execution_count": 978,
   "id": "d0e91c97",
   "metadata": {},
   "outputs": [],
   "source": [
    "avg_pp = ttl_vl/gen_group"
   ]
  },
  {
   "cell_type": "code",
   "execution_count": 979,
   "id": "e549562c",
   "metadata": {},
   "outputs": [
    {
     "name": "stdout",
     "output_type": "stream",
     "text": [
      "Gender\n",
      "Female                   4.468395\n",
      "Male                     4.065372\n",
      "Other / Non-Disclosed    4.562727\n",
      "dtype: float64\n"
     ]
    }
   ],
   "source": [
    "print(avg_pp)"
   ]
  },
  {
   "cell_type": "code",
   "execution_count": 980,
   "id": "f669b6c9",
   "metadata": {},
   "outputs": [],
   "source": [
    "Purchasing_df = pd.DataFrame({\"Purchase Count\": pur_ct,\"Average Purchase Price\": av_pr,\"Total Purchase Value\": ttl_vl,\"Avg Total Purchase per Person\": avg_pp})"
   ]
  },
  {
   "cell_type": "code",
   "execution_count": 981,
   "id": "d5b5721e",
   "metadata": {},
   "outputs": [
    {
     "name": "stdout",
     "output_type": "stream",
     "text": [
      "                       Purchase Count  Average Purchase Price  \\\n",
      "Gender                                                          \n",
      "Female                            113                3.203009   \n",
      "Male                              652                3.017853   \n",
      "Other / Non-Disclosed              15                3.346000   \n",
      "\n",
      "                       Total Purchase Value  Avg Total Purchase per Person  \n",
      "Gender                                                                      \n",
      "Female                               361.94                       4.468395  \n",
      "Male                                1967.64                       4.065372  \n",
      "Other / Non-Disclosed                 50.19                       4.562727  \n"
     ]
    }
   ],
   "source": [
    "print(Purchasing_df)"
   ]
  },
  {
   "cell_type": "code",
   "execution_count": 982,
   "id": "1db648b0",
   "metadata": {},
   "outputs": [
    {
     "data": {
      "text/html": [
       "<div>\n",
       "<style scoped>\n",
       "    .dataframe tbody tr th:only-of-type {\n",
       "        vertical-align: middle;\n",
       "    }\n",
       "\n",
       "    .dataframe tbody tr th {\n",
       "        vertical-align: top;\n",
       "    }\n",
       "\n",
       "    .dataframe thead th {\n",
       "        text-align: right;\n",
       "    }\n",
       "</style>\n",
       "<table border=\"1\" class=\"dataframe\">\n",
       "  <thead>\n",
       "    <tr style=\"text-align: right;\">\n",
       "      <th></th>\n",
       "      <th>Purchase Count</th>\n",
       "      <th>Average Purchase Price</th>\n",
       "      <th>Total Purchase Value</th>\n",
       "      <th>Avg Total Purchase per Person</th>\n",
       "    </tr>\n",
       "    <tr>\n",
       "      <th>Gender</th>\n",
       "      <th></th>\n",
       "      <th></th>\n",
       "      <th></th>\n",
       "      <th></th>\n",
       "    </tr>\n",
       "  </thead>\n",
       "  <tbody>\n",
       "    <tr>\n",
       "      <th>Female</th>\n",
       "      <td>113</td>\n",
       "      <td>3.203009</td>\n",
       "      <td>361.94</td>\n",
       "      <td>4.468395</td>\n",
       "    </tr>\n",
       "    <tr>\n",
       "      <th>Male</th>\n",
       "      <td>652</td>\n",
       "      <td>3.017853</td>\n",
       "      <td>1967.64</td>\n",
       "      <td>4.065372</td>\n",
       "    </tr>\n",
       "    <tr>\n",
       "      <th>Other / Non-Disclosed</th>\n",
       "      <td>15</td>\n",
       "      <td>3.346000</td>\n",
       "      <td>50.19</td>\n",
       "      <td>4.562727</td>\n",
       "    </tr>\n",
       "  </tbody>\n",
       "</table>\n",
       "</div>"
      ],
      "text/plain": [
       "                       Purchase Count  Average Purchase Price  \\\n",
       "Gender                                                          \n",
       "Female                            113                3.203009   \n",
       "Male                              652                3.017853   \n",
       "Other / Non-Disclosed              15                3.346000   \n",
       "\n",
       "                       Total Purchase Value  Avg Total Purchase per Person  \n",
       "Gender                                                                      \n",
       "Female                               361.94                       4.468395  \n",
       "Male                                1967.64                       4.065372  \n",
       "Other / Non-Disclosed                 50.19                       4.562727  "
      ]
     },
     "execution_count": 982,
     "metadata": {},
     "output_type": "execute_result"
    }
   ],
   "source": [
    "Purchasing_df.head()"
   ]
  },
  {
   "cell_type": "code",
   "execution_count": null,
   "id": "5524c2bf",
   "metadata": {},
   "outputs": [],
   "source": []
  },
  {
   "cell_type": "code",
   "execution_count": 983,
   "id": "fcdcce89",
   "metadata": {},
   "outputs": [],
   "source": [
    "ages=purchase_data['Age'].unique()"
   ]
  },
  {
   "cell_type": "code",
   "execution_count": 984,
   "id": "50f3f66f",
   "metadata": {},
   "outputs": [
    {
     "name": "stdout",
     "output_type": "stream",
     "text": [
      "[20 40 24 23 22 36 35 21 30 38 29 11  7 19 37 10  8 18 27 33 32 25 12 34\n",
      " 17 15 13 26 16 28 31 39 44 41  9 14 42 43 45]\n"
     ]
    }
   ],
   "source": [
    "print(ages)"
   ]
  },
  {
   "cell_type": "code",
   "execution_count": 985,
   "id": "cfac0a83",
   "metadata": {},
   "outputs": [],
   "source": [
    "bins = [0, 9, 14 , 19, 24 , 29, 34, 39, 50]"
   ]
  },
  {
   "cell_type": "code",
   "execution_count": 986,
   "id": "4844fe05",
   "metadata": {},
   "outputs": [],
   "source": [
    "groups = ['<10', '10 - 14', '15 - 19', '20 - 24', '25 - 29', '30 - 34', '35 - 39', '40+']"
   ]
  },
  {
   "cell_type": "code",
   "execution_count": 987,
   "id": "e4688dac",
   "metadata": {},
   "outputs": [],
   "source": [
    "purchase_data[\"Age_gp\"] = pd.cut(purchase_data[\"Age\"],bins,labels=groups)"
   ]
  },
  {
   "cell_type": "code",
   "execution_count": 988,
   "id": "46bc93bf",
   "metadata": {},
   "outputs": [],
   "source": [
    "ages_gp = purchase_data.groupby(\"Age_gp\")"
   ]
  },
  {
   "cell_type": "code",
   "execution_count": 989,
   "id": "6b932397",
   "metadata": {},
   "outputs": [],
   "source": [
    "age_total = ages_gp['SN'].nunique()"
   ]
  },
  {
   "cell_type": "code",
   "execution_count": 990,
   "id": "53dfd24b",
   "metadata": {},
   "outputs": [],
   "source": [
    "age_perc = (age_total / 576) *100"
   ]
  },
  {
   "cell_type": "code",
   "execution_count": 991,
   "id": "7c4f0d07",
   "metadata": {},
   "outputs": [],
   "source": [
    "Age_Demographics = pd.DataFrame({\"Total Count\": age_total, \"Percentage of Players\": age_perc})"
   ]
  },
  {
   "cell_type": "code",
   "execution_count": 992,
   "id": "3d7a7d0f",
   "metadata": {},
   "outputs": [
    {
     "name": "stdout",
     "output_type": "stream",
     "text": [
      "         Total Count  Percentage of Players\n",
      "Age_gp                                     \n",
      "<10               17               2.951389\n",
      "10 - 14           22               3.819444\n",
      "15 - 19          107              18.576389\n",
      "20 - 24          258              44.791667\n",
      "25 - 29           77              13.368056\n",
      "30 - 34           52               9.027778\n",
      "35 - 39           31               5.381944\n",
      "40+               12               2.083333\n"
     ]
    }
   ],
   "source": [
    "print(Age_Demographics)"
   ]
  },
  {
   "cell_type": "code",
   "execution_count": 993,
   "id": "3daf7669",
   "metadata": {},
   "outputs": [
    {
     "data": {
      "text/html": [
       "<div>\n",
       "<style scoped>\n",
       "    .dataframe tbody tr th:only-of-type {\n",
       "        vertical-align: middle;\n",
       "    }\n",
       "\n",
       "    .dataframe tbody tr th {\n",
       "        vertical-align: top;\n",
       "    }\n",
       "\n",
       "    .dataframe thead th {\n",
       "        text-align: right;\n",
       "    }\n",
       "</style>\n",
       "<table border=\"1\" class=\"dataframe\">\n",
       "  <thead>\n",
       "    <tr style=\"text-align: right;\">\n",
       "      <th></th>\n",
       "      <th>Total Count</th>\n",
       "      <th>Percentage of Players</th>\n",
       "    </tr>\n",
       "    <tr>\n",
       "      <th>Age_gp</th>\n",
       "      <th></th>\n",
       "      <th></th>\n",
       "    </tr>\n",
       "  </thead>\n",
       "  <tbody>\n",
       "    <tr>\n",
       "      <th>&lt;10</th>\n",
       "      <td>17</td>\n",
       "      <td>2.951389</td>\n",
       "    </tr>\n",
       "    <tr>\n",
       "      <th>10 - 14</th>\n",
       "      <td>22</td>\n",
       "      <td>3.819444</td>\n",
       "    </tr>\n",
       "    <tr>\n",
       "      <th>15 - 19</th>\n",
       "      <td>107</td>\n",
       "      <td>18.576389</td>\n",
       "    </tr>\n",
       "    <tr>\n",
       "      <th>20 - 24</th>\n",
       "      <td>258</td>\n",
       "      <td>44.791667</td>\n",
       "    </tr>\n",
       "    <tr>\n",
       "      <th>25 - 29</th>\n",
       "      <td>77</td>\n",
       "      <td>13.368056</td>\n",
       "    </tr>\n",
       "  </tbody>\n",
       "</table>\n",
       "</div>"
      ],
      "text/plain": [
       "         Total Count  Percentage of Players\n",
       "Age_gp                                     \n",
       "<10               17               2.951389\n",
       "10 - 14           22               3.819444\n",
       "15 - 19          107              18.576389\n",
       "20 - 24          258              44.791667\n",
       "25 - 29           77              13.368056"
      ]
     },
     "execution_count": 993,
     "metadata": {},
     "output_type": "execute_result"
    }
   ],
   "source": [
    "Age_Demographics.head()"
   ]
  },
  {
   "cell_type": "code",
   "execution_count": null,
   "id": "3862eb28",
   "metadata": {},
   "outputs": [],
   "source": []
  },
  {
   "cell_type": "code",
   "execution_count": 994,
   "id": "572cd338",
   "metadata": {},
   "outputs": [],
   "source": [
    "pur_age = ages_gp[\"Purchase ID\"].count()"
   ]
  },
  {
   "cell_type": "code",
   "execution_count": 995,
   "id": "ea8a15ff",
   "metadata": {},
   "outputs": [],
   "source": [
    "avg_pr_age = ages_gp[\"Price\"].mean()"
   ]
  },
  {
   "cell_type": "code",
   "execution_count": 996,
   "id": "4171b776",
   "metadata": {},
   "outputs": [],
   "source": [
    "ttl_vl_age = ages_gp[\"Price\"].sum()"
   ]
  },
  {
   "cell_type": "code",
   "execution_count": 997,
   "id": "fb90f868",
   "metadata": {},
   "outputs": [],
   "source": [
    "avg_ttl_pp = ttl_vl_age / age_total"
   ]
  },
  {
   "cell_type": "code",
   "execution_count": 998,
   "id": "4cbb6474",
   "metadata": {},
   "outputs": [
    {
     "data": {
      "text/html": [
       "<div>\n",
       "<style scoped>\n",
       "    .dataframe tbody tr th:only-of-type {\n",
       "        vertical-align: middle;\n",
       "    }\n",
       "\n",
       "    .dataframe tbody tr th {\n",
       "        vertical-align: top;\n",
       "    }\n",
       "\n",
       "    .dataframe thead th {\n",
       "        text-align: right;\n",
       "    }\n",
       "</style>\n",
       "<table border=\"1\" class=\"dataframe\">\n",
       "  <thead>\n",
       "    <tr style=\"text-align: right;\">\n",
       "      <th></th>\n",
       "      <th>Purchase Count</th>\n",
       "      <th>Average Purchase Price</th>\n",
       "      <th>Total Purchase Value</th>\n",
       "      <th>Avg Total Purchase per Person</th>\n",
       "    </tr>\n",
       "    <tr>\n",
       "      <th>Age_gp</th>\n",
       "      <th></th>\n",
       "      <th></th>\n",
       "      <th></th>\n",
       "      <th></th>\n",
       "    </tr>\n",
       "  </thead>\n",
       "  <tbody>\n",
       "    <tr>\n",
       "      <th>&lt;10</th>\n",
       "      <td>23</td>\n",
       "      <td>3.353478</td>\n",
       "      <td>77.13</td>\n",
       "      <td>4.537059</td>\n",
       "    </tr>\n",
       "    <tr>\n",
       "      <th>10 - 14</th>\n",
       "      <td>28</td>\n",
       "      <td>2.956429</td>\n",
       "      <td>82.78</td>\n",
       "      <td>3.762727</td>\n",
       "    </tr>\n",
       "    <tr>\n",
       "      <th>15 - 19</th>\n",
       "      <td>136</td>\n",
       "      <td>3.035956</td>\n",
       "      <td>412.89</td>\n",
       "      <td>3.858785</td>\n",
       "    </tr>\n",
       "    <tr>\n",
       "      <th>20 - 24</th>\n",
       "      <td>365</td>\n",
       "      <td>3.052219</td>\n",
       "      <td>1114.06</td>\n",
       "      <td>4.318062</td>\n",
       "    </tr>\n",
       "    <tr>\n",
       "      <th>25 - 29</th>\n",
       "      <td>101</td>\n",
       "      <td>2.900990</td>\n",
       "      <td>293.00</td>\n",
       "      <td>3.805195</td>\n",
       "    </tr>\n",
       "    <tr>\n",
       "      <th>30 - 34</th>\n",
       "      <td>73</td>\n",
       "      <td>2.931507</td>\n",
       "      <td>214.00</td>\n",
       "      <td>4.115385</td>\n",
       "    </tr>\n",
       "    <tr>\n",
       "      <th>35 - 39</th>\n",
       "      <td>41</td>\n",
       "      <td>3.601707</td>\n",
       "      <td>147.67</td>\n",
       "      <td>4.763548</td>\n",
       "    </tr>\n",
       "    <tr>\n",
       "      <th>40+</th>\n",
       "      <td>13</td>\n",
       "      <td>2.941538</td>\n",
       "      <td>38.24</td>\n",
       "      <td>3.186667</td>\n",
       "    </tr>\n",
       "  </tbody>\n",
       "</table>\n",
       "</div>"
      ],
      "text/plain": [
       "         Purchase Count  Average Purchase Price  Total Purchase Value  \\\n",
       "Age_gp                                                                  \n",
       "<10                  23                3.353478                 77.13   \n",
       "10 - 14              28                2.956429                 82.78   \n",
       "15 - 19             136                3.035956                412.89   \n",
       "20 - 24             365                3.052219               1114.06   \n",
       "25 - 29             101                2.900990                293.00   \n",
       "30 - 34              73                2.931507                214.00   \n",
       "35 - 39              41                3.601707                147.67   \n",
       "40+                  13                2.941538                 38.24   \n",
       "\n",
       "         Avg Total Purchase per Person  \n",
       "Age_gp                                  \n",
       "<10                           4.537059  \n",
       "10 - 14                       3.762727  \n",
       "15 - 19                       3.858785  \n",
       "20 - 24                       4.318062  \n",
       "25 - 29                       3.805195  \n",
       "30 - 34                       4.115385  \n",
       "35 - 39                       4.763548  \n",
       "40+                           3.186667  "
      ]
     },
     "execution_count": 998,
     "metadata": {},
     "output_type": "execute_result"
    }
   ],
   "source": [
    "Purchasing_Analysis_Age"
   ]
  },
  {
   "cell_type": "code",
   "execution_count": 999,
   "id": "d7fe840a",
   "metadata": {},
   "outputs": [],
   "source": [
    "Purchasing_Analysis_Age = pd.DataFrame({\"Purchase Count\": pur_age, \"Average Purchase Price\": avg_pr_age,\"Total Purchase Value\": ttl_vl_age,\"Avg Total Purchase per Person\": avg_ttl_pp})"
   ]
  },
  {
   "cell_type": "code",
   "execution_count": 1000,
   "id": "a2d1287f",
   "metadata": {},
   "outputs": [
    {
     "name": "stdout",
     "output_type": "stream",
     "text": [
      "         Purchase Count  Average Purchase Price  Total Purchase Value  \\\n",
      "Age_gp                                                                  \n",
      "<10                  23                3.353478                 77.13   \n",
      "10 - 14              28                2.956429                 82.78   \n",
      "15 - 19             136                3.035956                412.89   \n",
      "20 - 24             365                3.052219               1114.06   \n",
      "25 - 29             101                2.900990                293.00   \n",
      "30 - 34              73                2.931507                214.00   \n",
      "35 - 39              41                3.601707                147.67   \n",
      "40+                  13                2.941538                 38.24   \n",
      "\n",
      "         Avg Total Purchase per Person  \n",
      "Age_gp                                  \n",
      "<10                           4.537059  \n",
      "10 - 14                       3.762727  \n",
      "15 - 19                       3.858785  \n",
      "20 - 24                       4.318062  \n",
      "25 - 29                       3.805195  \n",
      "30 - 34                       4.115385  \n",
      "35 - 39                       4.763548  \n",
      "40+                           3.186667  \n"
     ]
    }
   ],
   "source": [
    "print(Purchasing_Analysis_Age)"
   ]
  },
  {
   "cell_type": "code",
   "execution_count": 1002,
   "id": "f2ce7b12",
   "metadata": {},
   "outputs": [
    {
     "data": {
      "text/html": [
       "<div>\n",
       "<style scoped>\n",
       "    .dataframe tbody tr th:only-of-type {\n",
       "        vertical-align: middle;\n",
       "    }\n",
       "\n",
       "    .dataframe tbody tr th {\n",
       "        vertical-align: top;\n",
       "    }\n",
       "\n",
       "    .dataframe thead th {\n",
       "        text-align: right;\n",
       "    }\n",
       "</style>\n",
       "<table border=\"1\" class=\"dataframe\">\n",
       "  <thead>\n",
       "    <tr style=\"text-align: right;\">\n",
       "      <th></th>\n",
       "      <th>Purchase Count</th>\n",
       "      <th>Average Purchase Price</th>\n",
       "      <th>Total Purchase Value</th>\n",
       "      <th>Avg Total Purchase per Person</th>\n",
       "    </tr>\n",
       "    <tr>\n",
       "      <th>Age_gp</th>\n",
       "      <th></th>\n",
       "      <th></th>\n",
       "      <th></th>\n",
       "      <th></th>\n",
       "    </tr>\n",
       "  </thead>\n",
       "  <tbody>\n",
       "    <tr>\n",
       "      <th>&lt;10</th>\n",
       "      <td>23</td>\n",
       "      <td>3.353478</td>\n",
       "      <td>77.13</td>\n",
       "      <td>4.537059</td>\n",
       "    </tr>\n",
       "    <tr>\n",
       "      <th>10 - 14</th>\n",
       "      <td>28</td>\n",
       "      <td>2.956429</td>\n",
       "      <td>82.78</td>\n",
       "      <td>3.762727</td>\n",
       "    </tr>\n",
       "    <tr>\n",
       "      <th>15 - 19</th>\n",
       "      <td>136</td>\n",
       "      <td>3.035956</td>\n",
       "      <td>412.89</td>\n",
       "      <td>3.858785</td>\n",
       "    </tr>\n",
       "    <tr>\n",
       "      <th>20 - 24</th>\n",
       "      <td>365</td>\n",
       "      <td>3.052219</td>\n",
       "      <td>1114.06</td>\n",
       "      <td>4.318062</td>\n",
       "    </tr>\n",
       "    <tr>\n",
       "      <th>25 - 29</th>\n",
       "      <td>101</td>\n",
       "      <td>2.900990</td>\n",
       "      <td>293.00</td>\n",
       "      <td>3.805195</td>\n",
       "    </tr>\n",
       "  </tbody>\n",
       "</table>\n",
       "</div>"
      ],
      "text/plain": [
       "         Purchase Count  Average Purchase Price  Total Purchase Value  \\\n",
       "Age_gp                                                                  \n",
       "<10                  23                3.353478                 77.13   \n",
       "10 - 14              28                2.956429                 82.78   \n",
       "15 - 19             136                3.035956                412.89   \n",
       "20 - 24             365                3.052219               1114.06   \n",
       "25 - 29             101                2.900990                293.00   \n",
       "\n",
       "         Avg Total Purchase per Person  \n",
       "Age_gp                                  \n",
       "<10                           4.537059  \n",
       "10 - 14                       3.762727  \n",
       "15 - 19                       3.858785  \n",
       "20 - 24                       4.318062  \n",
       "25 - 29                       3.805195  "
      ]
     },
     "execution_count": 1002,
     "metadata": {},
     "output_type": "execute_result"
    }
   ],
   "source": [
    "Purchasing_Analysis_Age.head()"
   ]
  },
  {
   "cell_type": "code",
   "execution_count": null,
   "id": "9cb7ff29",
   "metadata": {},
   "outputs": [],
   "source": []
  },
  {
   "cell_type": "code",
   "execution_count": 1003,
   "id": "15d351ed",
   "metadata": {},
   "outputs": [],
   "source": [
    "spend = purchase_data.groupby('SN')"
   ]
  },
  {
   "cell_type": "code",
   "execution_count": 1004,
   "id": "cc167b04",
   "metadata": {},
   "outputs": [],
   "source": [
    "spend_name = spend[\"Purchase ID\"].count()"
   ]
  },
  {
   "cell_type": "code",
   "execution_count": 1005,
   "id": "af60ff4e",
   "metadata": {},
   "outputs": [],
   "source": [
    "avg_spend_name = spend[\"Price\"].mean()"
   ]
  },
  {
   "cell_type": "code",
   "execution_count": 1006,
   "id": "cb0e5789",
   "metadata": {},
   "outputs": [],
   "source": [
    "spending = spend[\"Price\"].sum()"
   ]
  },
  {
   "cell_type": "code",
   "execution_count": 1007,
   "id": "df565581",
   "metadata": {},
   "outputs": [],
   "source": [
    "Top_Spenders = pd.DataFrame({\"Purchase Count\": spend_name, \"Average Purchase Price\": avg_spend_name,\"Total Purchase Value\": spending})"
   ]
  },
  {
   "cell_type": "code",
   "execution_count": 1008,
   "id": "d4a2257c",
   "metadata": {},
   "outputs": [
    {
     "name": "stdout",
     "output_type": "stream",
     "text": [
      "               Purchase Count  Average Purchase Price  Total Purchase Value\n",
      "SN                                                                         \n",
      "Adairialis76                1                2.280000                  2.28\n",
      "Adastirin33                 1                4.480000                  4.48\n",
      "Aeda94                      1                4.910000                  4.91\n",
      "Aela59                      1                4.320000                  4.32\n",
      "Aelaria33                   1                1.790000                  1.79\n",
      "...                       ...                     ...                   ...\n",
      "Yathecal82                  3                2.073333                  6.22\n",
      "Yathedeu43                  2                3.010000                  6.02\n",
      "Yoishirrala98               1                4.580000                  4.58\n",
      "Zhisrisu83                  2                3.945000                  7.89\n",
      "Zontibe81                   3                2.676667                  8.03\n",
      "\n",
      "[576 rows x 3 columns]\n"
     ]
    }
   ],
   "source": [
    "print(Top_Spenders)"
   ]
  },
  {
   "cell_type": "code",
   "execution_count": 1009,
   "id": "3693b632",
   "metadata": {},
   "outputs": [
    {
     "data": {
      "text/html": [
       "<div>\n",
       "<style scoped>\n",
       "    .dataframe tbody tr th:only-of-type {\n",
       "        vertical-align: middle;\n",
       "    }\n",
       "\n",
       "    .dataframe tbody tr th {\n",
       "        vertical-align: top;\n",
       "    }\n",
       "\n",
       "    .dataframe thead th {\n",
       "        text-align: right;\n",
       "    }\n",
       "</style>\n",
       "<table border=\"1\" class=\"dataframe\">\n",
       "  <thead>\n",
       "    <tr style=\"text-align: right;\">\n",
       "      <th></th>\n",
       "      <th>Purchase Count</th>\n",
       "      <th>Average Purchase Price</th>\n",
       "      <th>Total Purchase Value</th>\n",
       "    </tr>\n",
       "    <tr>\n",
       "      <th>SN</th>\n",
       "      <th></th>\n",
       "      <th></th>\n",
       "      <th></th>\n",
       "    </tr>\n",
       "  </thead>\n",
       "  <tbody>\n",
       "    <tr>\n",
       "      <th>Lisosia93</th>\n",
       "      <td>5</td>\n",
       "      <td>3.792000</td>\n",
       "      <td>18.96</td>\n",
       "    </tr>\n",
       "    <tr>\n",
       "      <th>Idastidru52</th>\n",
       "      <td>4</td>\n",
       "      <td>3.862500</td>\n",
       "      <td>15.45</td>\n",
       "    </tr>\n",
       "    <tr>\n",
       "      <th>Chamjask73</th>\n",
       "      <td>3</td>\n",
       "      <td>4.610000</td>\n",
       "      <td>13.83</td>\n",
       "    </tr>\n",
       "    <tr>\n",
       "      <th>Iral74</th>\n",
       "      <td>4</td>\n",
       "      <td>3.405000</td>\n",
       "      <td>13.62</td>\n",
       "    </tr>\n",
       "    <tr>\n",
       "      <th>Iskadarya95</th>\n",
       "      <td>3</td>\n",
       "      <td>4.366667</td>\n",
       "      <td>13.10</td>\n",
       "    </tr>\n",
       "    <tr>\n",
       "      <th>...</th>\n",
       "      <td>...</td>\n",
       "      <td>...</td>\n",
       "      <td>...</td>\n",
       "    </tr>\n",
       "    <tr>\n",
       "      <th>Ililsasya43</th>\n",
       "      <td>1</td>\n",
       "      <td>1.020000</td>\n",
       "      <td>1.02</td>\n",
       "    </tr>\n",
       "    <tr>\n",
       "      <th>Irilis75</th>\n",
       "      <td>1</td>\n",
       "      <td>1.020000</td>\n",
       "      <td>1.02</td>\n",
       "    </tr>\n",
       "    <tr>\n",
       "      <th>Aidai61</th>\n",
       "      <td>1</td>\n",
       "      <td>1.010000</td>\n",
       "      <td>1.01</td>\n",
       "    </tr>\n",
       "    <tr>\n",
       "      <th>Chanirra79</th>\n",
       "      <td>1</td>\n",
       "      <td>1.010000</td>\n",
       "      <td>1.01</td>\n",
       "    </tr>\n",
       "    <tr>\n",
       "      <th>Alo38</th>\n",
       "      <td>1</td>\n",
       "      <td>1.000000</td>\n",
       "      <td>1.00</td>\n",
       "    </tr>\n",
       "  </tbody>\n",
       "</table>\n",
       "<p>576 rows × 3 columns</p>\n",
       "</div>"
      ],
      "text/plain": [
       "             Purchase Count  Average Purchase Price  Total Purchase Value\n",
       "SN                                                                       \n",
       "Lisosia93                 5                3.792000                 18.96\n",
       "Idastidru52               4                3.862500                 15.45\n",
       "Chamjask73                3                4.610000                 13.83\n",
       "Iral74                    4                3.405000                 13.62\n",
       "Iskadarya95               3                4.366667                 13.10\n",
       "...                     ...                     ...                   ...\n",
       "Ililsasya43               1                1.020000                  1.02\n",
       "Irilis75                  1                1.020000                  1.02\n",
       "Aidai61                   1                1.010000                  1.01\n",
       "Chanirra79                1                1.010000                  1.01\n",
       "Alo38                     1                1.000000                  1.00\n",
       "\n",
       "[576 rows x 3 columns]"
      ]
     },
     "execution_count": 1009,
     "metadata": {},
     "output_type": "execute_result"
    }
   ],
   "source": [
    "Top_Spenders.sort_values([\"Total Purchase Value\"], ascending=False)"
   ]
  },
  {
   "cell_type": "code",
   "execution_count": null,
   "id": "693859db",
   "metadata": {},
   "outputs": [],
   "source": []
  },
  {
   "cell_type": "code",
   "execution_count": 1010,
   "id": "a37263c5",
   "metadata": {},
   "outputs": [],
   "source": [
    "item = purchase_data[[\"Item ID\", \"Item Name\", \"Price\"]]"
   ]
  },
  {
   "cell_type": "code",
   "execution_count": 899,
   "id": "c29df8b9",
   "metadata": {},
   "outputs": [],
   "source": [
    "item_gp = item.groupby([\"Item ID\",\"Item Name\"])"
   ]
  },
  {
   "cell_type": "code",
   "execution_count": 1011,
   "id": "555e7aeb",
   "metadata": {},
   "outputs": [],
   "source": [
    "item_pur = item_gp[\"Price\"].count()"
   ]
  },
  {
   "cell_type": "code",
   "execution_count": 1012,
   "id": "4348df29",
   "metadata": {},
   "outputs": [],
   "source": [
    "item_avg = item_gp[\"Price\"].mean()"
   ]
  },
  {
   "cell_type": "code",
   "execution_count": 913,
   "id": "45b1d45a",
   "metadata": {},
   "outputs": [],
   "source": [
    "item_ttl = item_gp[\"Price\"].sum()"
   ]
  },
  {
   "cell_type": "code",
   "execution_count": 1013,
   "id": "3b297c34",
   "metadata": {},
   "outputs": [],
   "source": [
    "Most_Popular = pd.DataFrame({\"Purchase Count\": item_pur, \"Item Price\": item_avg,\"Total Purchase Value\": item_ttl})"
   ]
  },
  {
   "cell_type": "code",
   "execution_count": 1014,
   "id": "efa7a3a8",
   "metadata": {},
   "outputs": [
    {
     "name": "stdout",
     "output_type": "stream",
     "text": [
      "                                                      Purchase Count  \\\n",
      "Item ID Item Name                                                      \n",
      "0       Splinter                                                   4   \n",
      "1       Crucifer                                                   4   \n",
      "2       Verdict                                                    6   \n",
      "3       Phantomlight                                               6   \n",
      "4       Bloodlord's Fetish                                         5   \n",
      "...                                                              ...   \n",
      "178     Oathbreaker, Last Hope of the Breaking Storm              12   \n",
      "179     Wolf, Promise of the Moonwalker                            6   \n",
      "181     Reaper's Toll                                              5   \n",
      "182     Toothpick                                                  3   \n",
      "183     Dragon's Greatsword                                        3   \n",
      "\n",
      "                                                      Item Price  \\\n",
      "Item ID Item Name                                                  \n",
      "0       Splinter                                          1.2800   \n",
      "1       Crucifer                                          2.9425   \n",
      "2       Verdict                                           2.4800   \n",
      "3       Phantomlight                                      2.4900   \n",
      "4       Bloodlord's Fetish                                1.7000   \n",
      "...                                                          ...   \n",
      "178     Oathbreaker, Last Hope of the Breaking Storm      4.2300   \n",
      "179     Wolf, Promise of the Moonwalker                   4.4800   \n",
      "181     Reaper's Toll                                     1.6600   \n",
      "182     Toothpick                                         4.0300   \n",
      "183     Dragon's Greatsword                               1.0900   \n",
      "\n",
      "                                                      Total Purchase Value  \n",
      "Item ID Item Name                                                           \n",
      "0       Splinter                                                      5.12  \n",
      "1       Crucifer                                                     11.77  \n",
      "2       Verdict                                                      14.88  \n",
      "3       Phantomlight                                                 14.94  \n",
      "4       Bloodlord's Fetish                                            8.50  \n",
      "...                                                                    ...  \n",
      "178     Oathbreaker, Last Hope of the Breaking Storm                 50.76  \n",
      "179     Wolf, Promise of the Moonwalker                              26.88  \n",
      "181     Reaper's Toll                                                 8.30  \n",
      "182     Toothpick                                                    12.09  \n",
      "183     Dragon's Greatsword                                           3.27  \n",
      "\n",
      "[179 rows x 3 columns]\n"
     ]
    }
   ],
   "source": [
    "print(Most_Popular)"
   ]
  },
  {
   "cell_type": "code",
   "execution_count": 1016,
   "id": "4809ecf8",
   "metadata": {},
   "outputs": [
    {
     "data": {
      "text/html": [
       "<div>\n",
       "<style scoped>\n",
       "    .dataframe tbody tr th:only-of-type {\n",
       "        vertical-align: middle;\n",
       "    }\n",
       "\n",
       "    .dataframe tbody tr th {\n",
       "        vertical-align: top;\n",
       "    }\n",
       "\n",
       "    .dataframe thead th {\n",
       "        text-align: right;\n",
       "    }\n",
       "</style>\n",
       "<table border=\"1\" class=\"dataframe\">\n",
       "  <thead>\n",
       "    <tr style=\"text-align: right;\">\n",
       "      <th></th>\n",
       "      <th></th>\n",
       "      <th>Purchase Count</th>\n",
       "      <th>Item Price</th>\n",
       "      <th>Total Purchase Value</th>\n",
       "    </tr>\n",
       "    <tr>\n",
       "      <th>Item ID</th>\n",
       "      <th>Item Name</th>\n",
       "      <th></th>\n",
       "      <th></th>\n",
       "      <th></th>\n",
       "    </tr>\n",
       "  </thead>\n",
       "  <tbody>\n",
       "    <tr>\n",
       "      <th>92</th>\n",
       "      <th>Final Critic</th>\n",
       "      <td>13</td>\n",
       "      <td>4.614615</td>\n",
       "      <td>59.99</td>\n",
       "    </tr>\n",
       "    <tr>\n",
       "      <th>178</th>\n",
       "      <th>Oathbreaker, Last Hope of the Breaking Storm</th>\n",
       "      <td>12</td>\n",
       "      <td>4.230000</td>\n",
       "      <td>50.76</td>\n",
       "    </tr>\n",
       "    <tr>\n",
       "      <th>145</th>\n",
       "      <th>Fiery Glass Crusader</th>\n",
       "      <td>9</td>\n",
       "      <td>4.580000</td>\n",
       "      <td>41.22</td>\n",
       "    </tr>\n",
       "    <tr>\n",
       "      <th>132</th>\n",
       "      <th>Persuasion</th>\n",
       "      <td>9</td>\n",
       "      <td>3.221111</td>\n",
       "      <td>28.99</td>\n",
       "    </tr>\n",
       "    <tr>\n",
       "      <th>108</th>\n",
       "      <th>Extraction, Quickblade Of Trembling Hands</th>\n",
       "      <td>9</td>\n",
       "      <td>3.530000</td>\n",
       "      <td>31.77</td>\n",
       "    </tr>\n",
       "    <tr>\n",
       "      <th>...</th>\n",
       "      <th>...</th>\n",
       "      <td>...</td>\n",
       "      <td>...</td>\n",
       "      <td>...</td>\n",
       "    </tr>\n",
       "    <tr>\n",
       "      <th>42</th>\n",
       "      <th>The Decapitator</th>\n",
       "      <td>1</td>\n",
       "      <td>1.750000</td>\n",
       "      <td>1.75</td>\n",
       "    </tr>\n",
       "    <tr>\n",
       "      <th>51</th>\n",
       "      <th>Endbringer</th>\n",
       "      <td>1</td>\n",
       "      <td>4.660000</td>\n",
       "      <td>4.66</td>\n",
       "    </tr>\n",
       "    <tr>\n",
       "      <th>118</th>\n",
       "      <th>Ghost Reaver, Longsword of Magic</th>\n",
       "      <td>1</td>\n",
       "      <td>2.170000</td>\n",
       "      <td>2.17</td>\n",
       "    </tr>\n",
       "    <tr>\n",
       "      <th>104</th>\n",
       "      <th>Gladiator's Glaive</th>\n",
       "      <td>1</td>\n",
       "      <td>1.930000</td>\n",
       "      <td>1.93</td>\n",
       "    </tr>\n",
       "    <tr>\n",
       "      <th>91</th>\n",
       "      <th>Celeste</th>\n",
       "      <td>1</td>\n",
       "      <td>4.170000</td>\n",
       "      <td>4.17</td>\n",
       "    </tr>\n",
       "  </tbody>\n",
       "</table>\n",
       "<p>179 rows × 3 columns</p>\n",
       "</div>"
      ],
      "text/plain": [
       "                                                      Purchase Count  \\\n",
       "Item ID Item Name                                                      \n",
       "92      Final Critic                                              13   \n",
       "178     Oathbreaker, Last Hope of the Breaking Storm              12   \n",
       "145     Fiery Glass Crusader                                       9   \n",
       "132     Persuasion                                                 9   \n",
       "108     Extraction, Quickblade Of Trembling Hands                  9   \n",
       "...                                                              ...   \n",
       "42      The Decapitator                                            1   \n",
       "51      Endbringer                                                 1   \n",
       "118     Ghost Reaver, Longsword of Magic                           1   \n",
       "104     Gladiator's Glaive                                         1   \n",
       "91      Celeste                                                    1   \n",
       "\n",
       "                                                      Item Price  \\\n",
       "Item ID Item Name                                                  \n",
       "92      Final Critic                                    4.614615   \n",
       "178     Oathbreaker, Last Hope of the Breaking Storm    4.230000   \n",
       "145     Fiery Glass Crusader                            4.580000   \n",
       "132     Persuasion                                      3.221111   \n",
       "108     Extraction, Quickblade Of Trembling Hands       3.530000   \n",
       "...                                                          ...   \n",
       "42      The Decapitator                                 1.750000   \n",
       "51      Endbringer                                      4.660000   \n",
       "118     Ghost Reaver, Longsword of Magic                2.170000   \n",
       "104     Gladiator's Glaive                              1.930000   \n",
       "91      Celeste                                         4.170000   \n",
       "\n",
       "                                                      Total Purchase Value  \n",
       "Item ID Item Name                                                           \n",
       "92      Final Critic                                                 59.99  \n",
       "178     Oathbreaker, Last Hope of the Breaking Storm                 50.76  \n",
       "145     Fiery Glass Crusader                                         41.22  \n",
       "132     Persuasion                                                   28.99  \n",
       "108     Extraction, Quickblade Of Trembling Hands                    31.77  \n",
       "...                                                                    ...  \n",
       "42      The Decapitator                                               1.75  \n",
       "51      Endbringer                                                    4.66  \n",
       "118     Ghost Reaver, Longsword of Magic                              2.17  \n",
       "104     Gladiator's Glaive                                            1.93  \n",
       "91      Celeste                                                       4.17  \n",
       "\n",
       "[179 rows x 3 columns]"
      ]
     },
     "execution_count": 1016,
     "metadata": {},
     "output_type": "execute_result"
    }
   ],
   "source": [
    "Most_Popular.sort_values([\"Purchase Count\"], ascending=False)"
   ]
  },
  {
   "cell_type": "code",
   "execution_count": null,
   "id": "1b9c0edb",
   "metadata": {},
   "outputs": [],
   "source": []
  },
  {
   "cell_type": "code",
   "execution_count": 1017,
   "id": "0043868c",
   "metadata": {},
   "outputs": [
    {
     "data": {
      "text/html": [
       "<div>\n",
       "<style scoped>\n",
       "    .dataframe tbody tr th:only-of-type {\n",
       "        vertical-align: middle;\n",
       "    }\n",
       "\n",
       "    .dataframe tbody tr th {\n",
       "        vertical-align: top;\n",
       "    }\n",
       "\n",
       "    .dataframe thead th {\n",
       "        text-align: right;\n",
       "    }\n",
       "</style>\n",
       "<table border=\"1\" class=\"dataframe\">\n",
       "  <thead>\n",
       "    <tr style=\"text-align: right;\">\n",
       "      <th></th>\n",
       "      <th></th>\n",
       "      <th>Purchase Count</th>\n",
       "      <th>Item Price</th>\n",
       "      <th>Total Purchase Value</th>\n",
       "    </tr>\n",
       "    <tr>\n",
       "      <th>Item ID</th>\n",
       "      <th>Item Name</th>\n",
       "      <th></th>\n",
       "      <th></th>\n",
       "      <th></th>\n",
       "    </tr>\n",
       "  </thead>\n",
       "  <tbody>\n",
       "    <tr>\n",
       "      <th>92</th>\n",
       "      <th>Final Critic</th>\n",
       "      <td>13</td>\n",
       "      <td>4.614615</td>\n",
       "      <td>59.99</td>\n",
       "    </tr>\n",
       "    <tr>\n",
       "      <th>178</th>\n",
       "      <th>Oathbreaker, Last Hope of the Breaking Storm</th>\n",
       "      <td>12</td>\n",
       "      <td>4.230000</td>\n",
       "      <td>50.76</td>\n",
       "    </tr>\n",
       "    <tr>\n",
       "      <th>82</th>\n",
       "      <th>Nirvana</th>\n",
       "      <td>9</td>\n",
       "      <td>4.900000</td>\n",
       "      <td>44.10</td>\n",
       "    </tr>\n",
       "    <tr>\n",
       "      <th>145</th>\n",
       "      <th>Fiery Glass Crusader</th>\n",
       "      <td>9</td>\n",
       "      <td>4.580000</td>\n",
       "      <td>41.22</td>\n",
       "    </tr>\n",
       "    <tr>\n",
       "      <th>103</th>\n",
       "      <th>Singed Scalpel</th>\n",
       "      <td>8</td>\n",
       "      <td>4.350000</td>\n",
       "      <td>34.80</td>\n",
       "    </tr>\n",
       "    <tr>\n",
       "      <th>...</th>\n",
       "      <th>...</th>\n",
       "      <td>...</td>\n",
       "      <td>...</td>\n",
       "      <td>...</td>\n",
       "    </tr>\n",
       "    <tr>\n",
       "      <th>28</th>\n",
       "      <th>Flux, Destroyer of Due Diligence</th>\n",
       "      <td>2</td>\n",
       "      <td>1.060000</td>\n",
       "      <td>2.12</td>\n",
       "    </tr>\n",
       "    <tr>\n",
       "      <th>125</th>\n",
       "      <th>Whistling Mithril Warblade</th>\n",
       "      <td>2</td>\n",
       "      <td>1.000000</td>\n",
       "      <td>2.00</td>\n",
       "    </tr>\n",
       "    <tr>\n",
       "      <th>126</th>\n",
       "      <th>Exiled Mithril Longsword</th>\n",
       "      <td>1</td>\n",
       "      <td>2.000000</td>\n",
       "      <td>2.00</td>\n",
       "    </tr>\n",
       "    <tr>\n",
       "      <th>104</th>\n",
       "      <th>Gladiator's Glaive</th>\n",
       "      <td>1</td>\n",
       "      <td>1.930000</td>\n",
       "      <td>1.93</td>\n",
       "    </tr>\n",
       "    <tr>\n",
       "      <th>42</th>\n",
       "      <th>The Decapitator</th>\n",
       "      <td>1</td>\n",
       "      <td>1.750000</td>\n",
       "      <td>1.75</td>\n",
       "    </tr>\n",
       "  </tbody>\n",
       "</table>\n",
       "<p>179 rows × 3 columns</p>\n",
       "</div>"
      ],
      "text/plain": [
       "                                                      Purchase Count  \\\n",
       "Item ID Item Name                                                      \n",
       "92      Final Critic                                              13   \n",
       "178     Oathbreaker, Last Hope of the Breaking Storm              12   \n",
       "82      Nirvana                                                    9   \n",
       "145     Fiery Glass Crusader                                       9   \n",
       "103     Singed Scalpel                                             8   \n",
       "...                                                              ...   \n",
       "28      Flux, Destroyer of Due Diligence                           2   \n",
       "125     Whistling Mithril Warblade                                 2   \n",
       "126     Exiled Mithril Longsword                                   1   \n",
       "104     Gladiator's Glaive                                         1   \n",
       "42      The Decapitator                                            1   \n",
       "\n",
       "                                                      Item Price  \\\n",
       "Item ID Item Name                                                  \n",
       "92      Final Critic                                    4.614615   \n",
       "178     Oathbreaker, Last Hope of the Breaking Storm    4.230000   \n",
       "82      Nirvana                                         4.900000   \n",
       "145     Fiery Glass Crusader                            4.580000   \n",
       "103     Singed Scalpel                                  4.350000   \n",
       "...                                                          ...   \n",
       "28      Flux, Destroyer of Due Diligence                1.060000   \n",
       "125     Whistling Mithril Warblade                      1.000000   \n",
       "126     Exiled Mithril Longsword                        2.000000   \n",
       "104     Gladiator's Glaive                              1.930000   \n",
       "42      The Decapitator                                 1.750000   \n",
       "\n",
       "                                                      Total Purchase Value  \n",
       "Item ID Item Name                                                           \n",
       "92      Final Critic                                                 59.99  \n",
       "178     Oathbreaker, Last Hope of the Breaking Storm                 50.76  \n",
       "82      Nirvana                                                      44.10  \n",
       "145     Fiery Glass Crusader                                         41.22  \n",
       "103     Singed Scalpel                                               34.80  \n",
       "...                                                                    ...  \n",
       "28      Flux, Destroyer of Due Diligence                              2.12  \n",
       "125     Whistling Mithril Warblade                                    2.00  \n",
       "126     Exiled Mithril Longsword                                      2.00  \n",
       "104     Gladiator's Glaive                                            1.93  \n",
       "42      The Decapitator                                               1.75  \n",
       "\n",
       "[179 rows x 3 columns]"
      ]
     },
     "execution_count": 1017,
     "metadata": {},
     "output_type": "execute_result"
    }
   ],
   "source": [
    "Most_Popular.sort_values([\"Total Purchase Value\"], ascending=False)"
   ]
  },
  {
   "cell_type": "code",
   "execution_count": null,
   "id": "bd509b67",
   "metadata": {},
   "outputs": [],
   "source": []
  },
  {
   "cell_type": "code",
   "execution_count": null,
   "id": "e47a09f6",
   "metadata": {},
   "outputs": [],
   "source": []
  }
 ],
 "metadata": {
  "kernelspec": {
   "display_name": "Python 3",
   "language": "python",
   "name": "python3"
  },
  "language_info": {
   "codemirror_mode": {
    "name": "ipython",
    "version": 3
   },
   "file_extension": ".py",
   "mimetype": "text/x-python",
   "name": "python",
   "nbconvert_exporter": "python",
   "pygments_lexer": "ipython3",
   "version": "3.8.8"
  }
 },
 "nbformat": 4,
 "nbformat_minor": 5
}
